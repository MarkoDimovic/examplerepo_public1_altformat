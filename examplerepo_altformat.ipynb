{
 "cells": [
  {
   "cell_type": "code",
   "execution_count": 4,
   "id": "9ac4d032-d8f3-4e1a-ad22-ee31b3452bf2",
   "metadata": {},
   "outputs": [
    {
     "name": "stdout",
     "output_type": "stream",
     "text": [
      "True\n",
      "Phone number found: 2014068283\n",
      "Done\n",
      "Phone number found: 2013342091\n",
      "Done\n"
     ]
    }
   ],
   "source": [
    "def isPhoneNumber(text):\n",
    "        if len(text) != 12:\n",
    "            return False\n",
    "        for i in range(0, 3):\n",
    "            if not text[i].isdecimal():\n",
    "                return False\n",
    "        if text[3] != '-':\n",
    "            return False\n",
    "        for i in range(4, 7):\n",
    "            if not text [i].isdecimal():\n",
    "                return False\n",
    "        if text[7] != '-':\n",
    "            return False\n",
    "        for i in range(8,12):\n",
    "            if not text[i].isdecimal():\n",
    "                return False\n",
    "        return True\n",
    "print (isPhoneNumber ('201-406-8283'))\n",
    "\n",
    "message = 'Call me at 201-406-8283 tomorrow. 201-334-2091 is my office.'\n",
    "for i in range (len(message)):\n",
    "    chunk = message[i:i+12]\n",
    "    if isPhoneNumber(chunk):\n",
    "        print('Phone number found: ' + chunk[0:3] + chunk[4:7] + chunk[8:12])\n",
    "        print('Done')"
   ]
  },
  {
   "cell_type": "code",
   "execution_count": null,
   "id": "960f4df3-ea39-4c1e-882b-41babe0a162d",
   "metadata": {},
   "outputs": [],
   "source": []
  }
 ],
 "metadata": {
  "kernelspec": {
   "display_name": "Python 3 (ipykernel)",
   "language": "python",
   "name": "python3"
  },
  "language_info": {
   "codemirror_mode": {
    "name": "ipython",
    "version": 3
   },
   "file_extension": ".py",
   "mimetype": "text/x-python",
   "name": "python",
   "nbconvert_exporter": "python",
   "pygments_lexer": "ipython3",
   "version": "3.12.3"
  }
 },
 "nbformat": 4,
 "nbformat_minor": 5
}
